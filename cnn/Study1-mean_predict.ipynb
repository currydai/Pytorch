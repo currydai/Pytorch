{
 "cells": [
  {
   "cell_type": "markdown",
   "metadata": {},
   "source": [
    "## 利用PyTorch训练时间序列以计算移动平均值"
   ]
  },
  {
   "cell_type": "markdown",
   "metadata": {},
   "source": [
    "### 1.load data"
   ]
  },
  {
   "cell_type": "code",
   "execution_count": 3,
   "metadata": {
    "collapsed": true
   },
   "outputs": [
    {
     "name": "stderr",
     "output_type": "stream",
     "text": [
      "C:\\Users\\10437\\anaconda3\\lib\\importlib\\_bootstrap.py:219: RuntimeWarning: numpy.ufunc size changed, may indicate binary incompatibility. Expected 192 from C header, got 216 from PyObject\n",
      "  return f(*args, **kwds)\n"
     ]
    }
   ],
   "source": [
    "import pandas as pd \n",
    "import matplotlib.pyplot as plt"
   ]
  },
  {
   "cell_type": "code",
   "execution_count": 7,
   "metadata": {},
   "outputs": [
    {
     "data": {
      "image/png": "[encoded data removed]",
      "text/plain": [
       "<Figure size 432x288 with 1 Axes>"
      ]
     },
     "metadata": {
      "needs_background": "light"
     },
     "output_type": "display_data"
    }
   ],
   "source": [
    "data=pd.read_csv(\"shampoo.csv\")\n",
    "#print(data)\n",
    "plt.plot(data[\"Sales\"])\n",
    "plt.show()"
   ]
  },
  {
   "cell_type": "markdown",
   "metadata": {},
   "source": [
    "即使看到增长趋势，我们运用CNN，因此数据特征对我们没有任何区别"
   ]
  },
  {
   "cell_type": "markdown",
   "metadata": {},
   "source": [
    "### 2.PyTorch"
   ]
  },
  {
   "cell_type": "markdown",
   "metadata": {},
   "source": [
    "在单变量时间序列情况下，一维卷积是在时间上因公用的滑动窗口。如下图所示，输出取决于属于和卷积核。"
   ]
  },
  {
   "cell_type": "markdown",
   "metadata": {},
   "source": [
    "![SegmentLocal](http://localhost:8888/tree/cnn/conv1d.gif \"segment\")"
   ]
  },
  {
   "cell_type": "markdown",
   "metadata": {},
   "source": [
    "当使用（0.5，0.5）卷积核时，他将为我们提供两个元素的移动平均值"
   ]
  },
  {
   "cell_type": "code",
   "execution_count": 12,
   "metadata": {},
   "outputs": [
    {
     "data": {
      "text/plain": [
       "0    266.0\n",
       "1    145.9\n",
       "2    183.1\n",
       "3    119.3\n",
       "4    180.3\n",
       "5    168.5\n",
       "6    231.8\n",
       "7    224.5\n",
       "8    192.8\n",
       "9    122.9\n",
       "Name: Sales, dtype: float64"
      ]
     },
     "execution_count": 12,
     "metadata": {},
     "output_type": "execute_result"
    }
   ],
   "source": [
    "ts=data.Sales\n",
    "ts.head(10)"
   ]
  },
  {
   "cell_type": "code",
   "execution_count": 13,
   "metadata": {},
   "outputs": [
    {
     "data": {
      "text/plain": [
       "0       NaN\n",
       "1    205.95\n",
       "2    164.50\n",
       "3    151.20\n",
       "4    149.80\n",
       "5    174.40\n",
       "6    200.15\n",
       "7    228.15\n",
       "8    208.65\n",
       "9    157.85\n",
       "Name: Sales, dtype: float64"
      ]
     },
     "execution_count": 13,
     "metadata": {},
     "output_type": "execute_result"
    }
   ],
   "source": [
    "ts.rolling(2).mean().head(10) #计算滑动平均值"
   ]
  },
  {
   "cell_type": "markdown",
   "metadata": {},
   "source": [
    "下面我们用PyTorch的一维卷积重现结果"
   ]
  },
  {
   "cell_type": "code",
   "execution_count": 14,
   "metadata": {},
   "outputs": [],
   "source": [
    "import torch\n",
    "import torch.nn as nn\n",
    "import torch.optim as optim\n",
    "import torch.nn.functional as F"
   ]
  },
  {
   "cell_type": "code",
   "execution_count": 15,
   "metadata": {},
   "outputs": [
    {
     "name": "stdout",
     "output_type": "stream",
     "text": [
      "36\n"
     ]
    }
   ],
   "source": [
    "print(len(ts))"
   ]
  },
  {
   "cell_type": "code",
   "execution_count": 17,
   "metadata": {},
   "outputs": [
    {
     "name": "stdout",
     "output_type": "stream",
     "text": [
      "tensor([[[266.0000, 145.9000, 183.1000, 119.3000, 180.3000, 168.5000, 231.8000,\n",
      "          224.5000, 192.8000, 122.9000, 336.5000, 185.9000, 194.3000, 149.5000,\n",
      "          210.1000, 273.3000, 191.4000, 287.0000, 226.0000, 303.6000, 289.9000,\n",
      "          421.6000, 264.5000, 342.3000, 339.7000, 440.4000, 315.9000, 439.3000,\n",
      "          401.3000, 437.4000, 575.5000, 407.6000, 682.0000, 475.3000, 581.3000,\n",
      "          646.9000]]])\n"
     ]
    }
   ],
   "source": [
    "ts_tensor=torch.Tensor(ts).reshape(1,1,-1)\n",
    "print(ts_tensor)"
   ]
  },
  {
   "cell_type": "markdown",
   "metadata": {},
   "source": [
    "reshape函数中每个数字描述：\n",
    "* 1.样品数：我们正在处理的时间序列，如果支队一个时间序列执行计算，值必须等于1\n",
    "* 2.通道数：特征或者变量的数量\n",
    "* 3.时间序列长度：-1表示推断值"
   ]
  },
  {
   "cell_type": "code",
   "execution_count": 18,
   "metadata": {},
   "outputs": [
    {
     "data": {
      "text/plain": [
       "tensor([[[205.9500, 164.5000, 151.2000, 149.8000, 174.4000, 200.1500, 228.1500,\n",
       "          208.6500, 157.8500, 229.7000, 261.2000, 190.1000, 171.9000, 179.8000,\n",
       "          241.7000, 232.3500, 239.2000, 256.5000, 264.8000, 296.7500, 355.7500,\n",
       "          343.0500, 303.4000, 341.0000, 390.0500, 378.1500, 377.6000, 420.3000,\n",
       "          419.3500, 506.4500, 491.5500, 544.8000, 578.6500, 528.3000, 614.1000]]])"
      ]
     },
     "execution_count": 18,
     "metadata": {},
     "output_type": "execute_result"
    }
   ],
   "source": [
    "kernel=[0.5,0.5]\n",
    "kernel_tensor=torch.Tensor(kernel).reshape(1,1,-1)\n",
    "F.conv1d(ts_tensor,kernel_tensor)"
   ]
  },
  {
   "cell_type": "markdown",
   "metadata": {},
   "source": [
    "### 3.学习网络，计算移动平均值"
   ]
  },
  {
   "cell_type": "markdown",
   "metadata": {},
   "source": [
    "最佳内核值是以已知的，为[0.2，0.2，0.2，0.2，0.2]"
   ]
  },
  {
   "cell_type": "code",
   "execution_count": 20,
   "metadata": {},
   "outputs": [],
   "source": [
    "X=data.Sales\n",
    "X_tensor=torch.Tensor(X).reshape(1,1,-1)"
   ]
  },
  {
   "cell_type": "markdown",
   "metadata": {},
   "source": [
    "我们准备移动平均值的目标值"
   ]
  },
  {
   "cell_type": "code",
   "execution_count": 22,
   "metadata": {},
   "outputs": [
    {
     "name": "stdout",
     "output_type": "stream",
     "text": [
      "tensor([[[178.9200, 159.4200, 176.6000, 184.8800, 199.5800, 188.1000, 221.7000,\n",
      "          212.5200, 206.4800, 197.8200, 215.2600, 202.6200, 203.7200, 222.2600,\n",
      "          237.5600, 256.2600, 259.5800, 305.6200, 301.1200, 324.3800, 331.6000,\n",
      "          361.7000, 340.5600, 375.5200, 387.3200, 406.8600, 433.8800, 452.2200,\n",
      "          500.7600, 515.5600, 544.3400, 558.6200]]])\n"
     ]
    }
   ],
   "source": [
    "y=data.Sales.rolling(5).mean()\n",
    "y=y[4:,].to_numpy()\n",
    "y_tensor=torch.Tensor(y).reshape(1,1,-1)\n",
    "print(y_tensor)"
   ]
  },
  {
   "cell_type": "markdown",
   "metadata": {},
   "source": [
    "我们正在建立一个单层的神经网络。没有使用任何的非线性激活函数最后一个值描述内核的长度。padding_mode=vaild意味着我们没有在输入中添加任何填充。"
   ]
  },
  {
   "cell_type": "code",
   "execution_count": 30,
   "metadata": {},
   "outputs": [],
   "source": [
    "#building a network\n",
    "net=nn.Conv1d(1,1,5,bias=False) #padding_mode = \"valid\"语法变了"
   ]
  },
  {
   "cell_type": "code",
   "execution_count": 31,
   "metadata": {},
   "outputs": [
    {
     "name": "stdout",
     "output_type": "stream",
     "text": [
      "Conv1d(1, 1, kernel_size=(5,), stride=(1,), bias=False)\n"
     ]
    }
   ],
   "source": [
    "print(net)"
   ]
  },
  {
   "cell_type": "code",
   "execution_count": 32,
   "metadata": {},
   "outputs": [
    {
     "data": {
      "text/plain": [
       "array([[[ 0.256185  , -0.00691825,  0.07447129, -0.43529248,\n",
       "          0.4461472 ]]], dtype=float32)"
      ]
     },
     "execution_count": 32,
     "metadata": {},
     "output_type": "execute_result"
    }
   ],
   "source": [
    "net.weight.data.numpy()#初始化权重"
   ]
  },
  {
   "cell_type": "code",
   "execution_count": 33,
   "metadata": {},
   "outputs": [
    {
     "data": {
      "text/plain": [
       "tensor([[[109.2815,  41.6877,  89.5794,  41.1232,  50.5809,  29.1894, 168.8197,\n",
       "            1.7951,  79.3673,  25.1230, 128.0492,  87.8911,  30.8160, 101.9284,\n",
       "           42.0878, 127.1387,  61.0621, 156.4754,  11.8733, 144.7506,  93.6046,\n",
       "          180.2836,  39.9258, 176.6227,  95.3196, 163.8155, 174.1358,  73.6783,\n",
       "          269.4864,  53.6126, 247.8549, 170.6761]]],\n",
       "       grad_fn=<SqueezeBackward1>)"
      ]
     },
     "execution_count": 33,
     "metadata": {},
     "output_type": "execute_result"
    }
   ],
   "source": [
    "net(X_tensor)"
   ]
  },
  {
   "cell_type": "code",
   "execution_count": 34,
   "metadata": {},
   "outputs": [],
   "source": [
    "optimizer = optim.Adam(net.parameters(), lr=0.01) #设置优化方法\n",
    "# optimizer = optim.SGD(net.parameters(), lr=0.01, momentum=0.9)"
   ]
  },
  {
   "cell_type": "code",
   "execution_count": 43,
   "metadata": {},
   "outputs": [
    {
     "name": "stdout",
     "output_type": "stream",
     "text": [
      "[0]loss:0.000\n",
      "1.2369127944111824e-10\n",
      "[50]loss:0.000\n",
      "1.2369127944111824e-10\n",
      "[100]loss:0.000\n",
      "1.2369127944111824e-10\n",
      "[150]loss:0.000\n",
      "1.2369127944111824e-10\n",
      "[200]loss:0.000\n",
      "1.2369127944111824e-10\n",
      "[250]loss:0.000\n",
      "1.2369127944111824e-10\n",
      "[300]loss:0.000\n",
      "1.2369127944111824e-10\n",
      "[350]loss:0.000\n",
      "1.2369127944111824e-10\n",
      "[400]loss:0.000\n",
      "1.2369127944111824e-10\n",
      "[450]loss:0.000\n",
      "1.2369127944111824e-10\n",
      "[500]loss:0.000\n",
      "1.2369127944111824e-10\n",
      "[550]loss:0.000\n",
      "1.2369127944111824e-10\n",
      "[600]loss:0.000\n",
      "1.2369127944111824e-10\n",
      "[650]loss:0.000\n",
      "1.2369127944111824e-10\n",
      "[700]loss:0.000\n",
      "1.2369127944111824e-10\n",
      "[750]loss:0.000\n",
      "1.2369127944111824e-10\n",
      "[800]loss:0.000\n",
      "1.2369127944111824e-10\n",
      "[850]loss:0.000\n",
      "1.2369127944111824e-10\n",
      "[900]loss:0.000\n",
      "1.2369127944111824e-10\n",
      "[950]loss:0.000\n",
      "1.2369127944111824e-10\n",
      "[1000]loss:0.000\n",
      "1.2369127944111824e-10\n",
      "[1050]loss:0.000\n",
      "1.2369127944111824e-10\n",
      "[1100]loss:0.000\n",
      "1.2369127944111824e-10\n",
      "[1150]loss:0.000\n",
      "1.2369127944111824e-10\n",
      "[1200]loss:0.000\n",
      "1.2369127944111824e-10\n",
      "[1250]loss:0.000\n",
      "1.2369127944111824e-10\n",
      "[1300]loss:0.000\n",
      "1.2369127944111824e-10\n",
      "[1350]loss:0.000\n",
      "1.2369127944111824e-10\n",
      "[1400]loss:0.000\n",
      "1.2369127944111824e-10\n",
      "[1450]loss:0.000\n",
      "1.2369127944111824e-10\n",
      "[1500]loss:0.000\n",
      "1.2369127944111824e-10\n",
      "[1550]loss:0.000\n",
      "1.2369127944111824e-10\n",
      "[1600]loss:0.000\n",
      "1.2369127944111824e-10\n",
      "[1650]loss:0.000\n",
      "1.2369127944111824e-10\n",
      "[1700]loss:0.000\n",
      "1.2369127944111824e-10\n",
      "[1750]loss:0.000\n",
      "1.2369127944111824e-10\n",
      "[1800]loss:0.000\n",
      "1.2369127944111824e-10\n",
      "[1850]loss:0.000\n",
      "1.2369127944111824e-10\n",
      "[1900]loss:0.000\n",
      "1.2369127944111824e-10\n",
      "[1950]loss:0.000\n",
      "1.2369127944111824e-10\n",
      "[2000]loss:0.000\n",
      "1.2369127944111824e-10\n"
     ]
    }
   ],
   "source": [
    "running_loss=0.0\n",
    "for iteration in range(2001):\n",
    "    optimizer.zero_grad()#将梯度初始化0\n",
    "    outputs=net(X_tensor)#前向传播求出预测值\n",
    "    loss_value=torch.mean((outputs-y_tensor)**2)#计损失值\n",
    "    loss_value.backward()#反向传播求梯度\n",
    "    optimizer.step()##更新所有参数\n",
    "    running_loss+=loss_value.item()#记录损失\n",
    "    if iteration %50 == 0:\n",
    "        print('[%s]loss:%.3f'%(iteration,loss_value.item()))\n",
    "        #print(net.weight.data.numpy())\n",
    "        print(loss_value.item())"
   ]
  },
  {
   "cell_type": "markdown",
   "metadata": {},
   "source": [
    "正如我们在本例中，算法收敛并且参数值越来越接近真实解[0.2,0.2,0.2,0.2,0.2]"
   ]
  },
  {
   "cell_type": "code",
   "execution_count": null,
   "metadata": {},
   "outputs": [],
   "source": []
  }
 ],
 "metadata": {
  "kernelspec": {
   "display_name": "Python 3",
   "language": "python",
   "name": "python3"
  },
  "language_info": {
   "codemirror_mode": {
    "name": "ipython",
    "version": 3
   },
   "file_extension": ".py",
   "mimetype": "text/x-python",
   "name": "python",
   "nbconvert_exporter": "python",
   "pygments_lexer": "ipython3",
   "version": "3.7.6"
  }
 },
 "nbformat": 4,
 "nbformat_minor": 4
}
