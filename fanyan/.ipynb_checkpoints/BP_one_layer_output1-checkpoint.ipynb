{
 "cells": [
  {
   "cell_type": "code",
   "execution_count": 89,
   "metadata": {},
   "outputs": [],
   "source": [
    "import numpy as np\n",
    "import random\n",
    "import matplotlib.pyplot as plt\n",
    "import matplotlib\n",
    "from sklearn import preprocessing\n",
    "from scipy import stats\n",
    "import keras\n",
    "from keras.models import Sequential\n",
    "from keras.layers import Dense, Dropout, Flatten, Reshape, GlobalAveragePooling1D\n",
    "from keras.layers import Conv2D, MaxPooling2D, Conv1D, MaxPooling1D\n",
    "from keras.utils import np_utils\n",
    "from keras import optimizers \n",
    "from keras.utils.vis_utils import plot_model  \n",
    "from sklearn.model_selection import train_test_split\n",
    "import pandas as pd "
   ]
  },
  {
   "cell_type": "markdown",
   "metadata": {},
   "source": [
    "### 读取数据"
   ]
  },
  {
   "cell_type": "code",
   "execution_count": 90,
   "metadata": {},
   "outputs": [],
   "source": [
    "data_x=pd.read_csv('Result_x.csv',header=None)\n",
    "data_y=pd.read_csv('Result.csv',header=None)"
   ]
  },
  {
   "cell_type": "code",
   "execution_count": 103,
   "metadata": {},
   "outputs": [],
   "source": [
    "X=data_x.T\n",
    "Y=data_y.iloc[:,0]"
   ]
  },
  {
   "cell_type": "code",
   "execution_count": 121,
   "metadata": {},
   "outputs": [
    {
     "data": {
      "text/plain": [
       "<bound method NDFrame.head of             0         1         2         3         4         5         6   \\\n",
       "0     1.563877  1.556981  1.550083  1.543187  1.536289  1.529393  1.515600   \n",
       "1     1.529179  1.525540  1.521899  1.518258  1.514618  1.510978  1.503698   \n",
       "2     1.565418  1.558147  1.550873  1.543602  1.536329  1.529058  1.514514   \n",
       "3     1.572107  1.561649  1.551189  1.540732  1.530271  1.519814  1.498898   \n",
       "4     1.565783  1.558414  1.551042  1.543673  1.536300  1.528931  1.514190   \n",
       "...        ...       ...       ...       ...       ...       ...       ...   \n",
       "9995  1.518884  1.515638  1.512390  1.509144  1.505896  1.502650  1.496156   \n",
       "9996  0.293682  0.293689  0.293695  0.293702  0.293709  0.293715  0.293728   \n",
       "9997  1.557814  1.551990  1.546163  1.540338  1.534512  1.528688  1.517037   \n",
       "9998  1.573153  1.557568  1.541977  1.526392  1.510801  1.495216  1.464045   \n",
       "9999  1.563379  1.556592  1.549804  1.543020  1.536230  1.529444  1.515869   \n",
       "\n",
       "            7         8         9   ...        20        21        22  \\\n",
       "0     1.498359  1.477668  1.446631  ...  0.228109  0.154304  0.101005   \n",
       "1     1.494596  1.483677  1.467292  ...  0.439000  0.315150  0.216570   \n",
       "2     1.496334  1.474518  1.441794  ...  0.214594  0.144609  0.094365   \n",
       "3     1.472752  1.441379  1.394324  ...  0.138133  0.091015  0.058347   \n",
       "4     1.495764  1.473654  1.440487  ...  0.211265  0.142218  0.092736   \n",
       "...        ...       ...       ...  ...       ...       ...       ...   \n",
       "9995  1.488039  1.478297  1.463683  ...  0.484121  0.352153  0.244729   \n",
       "9996  0.293745  0.293764  0.293794  ...  0.295339  0.295201  0.294405   \n",
       "9997  1.502475  1.484998  1.458786  ...  0.275461  0.188837  0.124941   \n",
       "9998  1.425078  1.378341  1.308473  ...  0.082282  0.053251  0.033663   \n",
       "9999  1.498901  1.478541  1.447998  ...  0.232326  0.157346  0.103090   \n",
       "\n",
       "            23        24        25        26        27        28        29  \n",
       "0     0.064125  0.039481  0.023552  0.013596  0.007582  0.004084  0.002127  \n",
       "1     0.142968  0.090778  0.055508  0.032663  0.018491  0.010077  0.005293  \n",
       "2     0.059768  0.036728  0.021880  0.012615  0.007031  0.003784  0.001970  \n",
       "3     0.036448  0.022165  0.013095  0.007500  0.004158  0.002230  0.001156  \n",
       "4     0.058700  0.036060  0.021472  0.012381  0.006895  0.003711  0.001931  \n",
       "...        ...       ...       ...       ...       ...       ...       ...  \n",
       "9995  0.163048  0.104310  0.064145  0.037928  0.021555  0.011782  0.006208  \n",
       "9996  0.292135  0.286700  0.275502  0.255091  0.223328  0.182102  0.136383  \n",
       "9997  0.079989  0.049576  0.029733  0.017234  0.009638  0.005210  0.002720  \n",
       "9998  0.020806  0.012549  0.007366  0.004198  0.002319  0.001240  0.000641  \n",
       "9999  0.065496  0.040351  0.024082  0.013908  0.007758  0.004179  0.002178  \n",
       "\n",
       "[10000 rows x 30 columns]>"
      ]
     },
     "execution_count": 121,
     "metadata": {},
     "output_type": "execute_result"
    }
   ],
   "source": [
    "X.head"
   ]
  },
  {
   "cell_type": "code",
   "execution_count": 105,
   "metadata": {},
   "outputs": [
    {
     "data": {
      "text/plain": [
       "<bound method NDFrame.head of 0        54.4203\n",
       "1        28.9398\n",
       "2        57.3649\n",
       "3        82.4079\n",
       "4        58.1375\n",
       "          ...   \n",
       "9995     25.8862\n",
       "9996      1.2035\n",
       "9997     46.0135\n",
       "9998    122.7582\n",
       "9999     53.5593\n",
       "Name: 0, Length: 10000, dtype: float64>"
      ]
     },
     "execution_count": 105,
     "metadata": {},
     "output_type": "execute_result"
    }
   ],
   "source": [
    "Y.head"
   ]
  },
  {
   "cell_type": "code",
   "execution_count": 106,
   "metadata": {
    "scrolled": true
   },
   "outputs": [
    {
     "data": {
      "text/plain": [
       "[<matplotlib.lines.Line2D at 0x1ca52e01808>]"
      ]
     },
     "execution_count": 106,
     "metadata": {},
     "output_type": "execute_result"
    },
    {
     "data": {
      "image/png": "[encoded data removed]",
      "text/plain": [
       "<Figure size 432x288 with 1 Axes>"
      ]
     },
     "metadata": {
      "needs_background": "light"
     },
     "output_type": "display_data"
    }
   ],
   "source": [
    "plt.plot(Y)"
   ]
  },
  {
   "cell_type": "code",
   "execution_count": 147,
   "metadata": {},
   "outputs": [
    {
     "name": "stdout",
     "output_type": "stream",
     "text": [
      "(10000, 30)\n",
      "(10000, 1)\n",
      "xtrain: (8500, 30)\n",
      "ytrain: (8500, 1)\n",
      "xtest: (1500, 30)\n",
      "ytest: (1500, 1)\n"
     ]
    }
   ],
   "source": [
    "X_temp=X.values.reshape(-1,30)\n",
    "Y_temp=Y.values.reshape(-1,1)\n",
    "print(X_temp.shape)\n",
    "print(Y_temp.shape)\n",
    "min_max_scaler_x = preprocessing.MinMaxScaler()\n",
    "X_all=min_max_scaler_x.fit_transform(X_temp)\n",
    "min_max_scaler_y = preprocessing.MinMaxScaler()\n",
    "Y_all=min_max_scaler_y.fit_transform(Y_temp) \n",
    "\n",
    "in_dim=X_all.shape[1]\n",
    "out_dim=Y_all.shape[1]\n",
    "\n",
    "xtrain, xtest, ytrain, ytest=train_test_split(X_all, Y_all, test_size=0.15)   \n",
    "\n",
    "print(\"xtrain:\",xtrain.shape)\n",
    "print(\"ytrain:\",ytrain.shape)\n",
    "print(\"xtest:\",xtest.shape)\n",
    "print(\"ytest:\",ytest.shape)"
   ]
  },
  {
   "cell_type": "markdown",
   "metadata": {},
   "source": [
    "### 搭建网络"
   ]
  },
  {
   "cell_type": "code",
   "execution_count": 148,
   "metadata": {},
   "outputs": [],
   "source": [
    "model=Sequential()"
   ]
  },
  {
   "cell_type": "code",
   "execution_count": 149,
   "metadata": {},
   "outputs": [],
   "source": [
    "model.add(Dense(\n",
    "    units=100,\n",
    "    input_dim=in_dim,\n",
    "    activation='relu',\n",
    "    ))\n",
    "model.add(Dense(\n",
    "    units=100,\n",
    "    activation='relu',\n",
    "    ))\n",
    "model.add(Dense(\n",
    "    out_dim))"
   ]
  },
  {
   "cell_type": "code",
   "execution_count": 150,
   "metadata": {},
   "outputs": [
    {
     "data": {
      "image/png": "[encoded data removed]",
      "text/plain": [
       "<IPython.core.display.Image object>"
      ]
     },
     "execution_count": 150,
     "metadata": {},
     "output_type": "execute_result"
    }
   ],
   "source": [
    "plot_model(model,show_shapes=True)"
   ]
  },
  {
   "cell_type": "code",
   "execution_count": 151,
   "metadata": {},
   "outputs": [
    {
     "name": "stdout",
     "output_type": "stream",
     "text": [
      "Model: \"sequential_6\"\n",
      "_________________________________________________________________\n",
      "Layer (type)                 Output Shape              Param #   \n",
      "=================================================================\n",
      "dense_18 (Dense)             (None, 100)               3100      \n",
      "_________________________________________________________________\n",
      "dense_19 (Dense)             (None, 100)               10100     \n",
      "_________________________________________________________________\n",
      "dense_20 (Dense)             (None, 1)                 101       \n",
      "=================================================================\n",
      "Total params: 13,301\n",
      "Trainable params: 13,301\n",
      "Non-trainable params: 0\n",
      "_________________________________________________________________\n"
     ]
    }
   ],
   "source": [
    "model.summary()"
   ]
  },
  {
   "cell_type": "code",
   "execution_count": 152,
   "metadata": {},
   "outputs": [],
   "source": [
    "model.compile(loss=\"mse\", optimizer=\"adam\")"
   ]
  },
  {
   "cell_type": "code",
   "execution_count": 153,
   "metadata": {},
   "outputs": [
    {
     "name": "stdout",
     "output_type": "stream",
     "text": [
      "Epoch 1/100\n",
      "9/9 - 0s - loss: 0.1123\n",
      "Epoch 2/100\n",
      "9/9 - 0s - loss: 0.0246\n",
      "Epoch 3/100\n",
      "9/9 - 0s - loss: 0.0113\n",
      "Epoch 4/100\n",
      "9/9 - 0s - loss: 0.0055\n",
      "Epoch 5/100\n",
      "9/9 - 0s - loss: 0.0033\n",
      "Epoch 6/100\n",
      "9/9 - 0s - loss: 0.0022\n",
      "Epoch 7/100\n",
      "9/9 - 0s - loss: 0.0017\n",
      "Epoch 8/100\n",
      "9/9 - 0s - loss: 0.0013\n",
      "Epoch 9/100\n",
      "9/9 - 0s - loss: 9.8466e-04\n",
      "Epoch 10/100\n",
      "9/9 - 0s - loss: 7.8209e-04\n",
      "Epoch 11/100\n",
      "9/9 - 0s - loss: 6.5377e-04\n",
      "Epoch 12/100\n",
      "9/9 - 0s - loss: 5.6505e-04\n",
      "Epoch 13/100\n",
      "9/9 - 0s - loss: 5.0124e-04\n",
      "Epoch 14/100\n",
      "9/9 - 0s - loss: 4.4946e-04\n",
      "Epoch 15/100\n",
      "9/9 - 0s - loss: 4.0631e-04\n",
      "Epoch 16/100\n",
      "9/9 - 0s - loss: 3.6888e-04\n",
      "Epoch 17/100\n",
      "9/9 - 0s - loss: 3.3681e-04\n",
      "Epoch 18/100\n",
      "9/9 - 0s - loss: 3.0910e-04\n",
      "Epoch 19/100\n",
      "9/9 - 0s - loss: 2.8498e-04\n",
      "Epoch 20/100\n",
      "9/9 - 0s - loss: 2.6391e-04\n",
      "Epoch 21/100\n",
      "9/9 - 0s - loss: 2.4270e-04\n",
      "Epoch 22/100\n",
      "9/9 - 0s - loss: 2.2283e-04\n",
      "Epoch 23/100\n",
      "9/9 - 0s - loss: 2.0643e-04\n",
      "Epoch 24/100\n",
      "9/9 - 0s - loss: 1.9187e-04\n",
      "Epoch 25/100\n",
      "9/9 - 0s - loss: 1.7872e-04\n",
      "Epoch 26/100\n",
      "9/9 - 0s - loss: 1.6684e-04\n",
      "Epoch 27/100\n",
      "9/9 - 0s - loss: 1.5598e-04\n",
      "Epoch 28/100\n",
      "9/9 - 0s - loss: 1.4639e-04\n",
      "Epoch 29/100\n",
      "9/9 - 0s - loss: 1.3717e-04\n",
      "Epoch 30/100\n",
      "9/9 - 0s - loss: 1.2790e-04\n",
      "Epoch 31/100\n",
      "9/9 - 0s - loss: 1.2036e-04\n",
      "Epoch 32/100\n",
      "9/9 - 0s - loss: 1.1343e-04\n",
      "Epoch 33/100\n",
      "9/9 - 0s - loss: 1.0655e-04\n",
      "Epoch 34/100\n",
      "9/9 - 0s - loss: 1.0028e-04\n",
      "Epoch 35/100\n",
      "9/9 - 0s - loss: 9.4373e-05\n",
      "Epoch 36/100\n",
      "9/9 - 0s - loss: 8.8888e-05\n",
      "Epoch 37/100\n",
      "9/9 - 0s - loss: 8.3860e-05\n",
      "Epoch 38/100\n",
      "9/9 - 0s - loss: 7.9735e-05\n",
      "Epoch 39/100\n",
      "9/9 - 0s - loss: 7.5624e-05\n",
      "Epoch 40/100\n",
      "9/9 - 0s - loss: 7.1794e-05\n",
      "Epoch 41/100\n",
      "9/9 - 0s - loss: 6.7792e-05\n",
      "Epoch 42/100\n",
      "9/9 - 0s - loss: 6.4584e-05\n",
      "Epoch 43/100\n",
      "9/9 - 0s - loss: 6.1827e-05\n",
      "Epoch 44/100\n",
      "9/9 - 0s - loss: 5.8700e-05\n",
      "Epoch 45/100\n",
      "9/9 - 0s - loss: 5.5687e-05\n",
      "Epoch 46/100\n",
      "9/9 - 0s - loss: 5.3117e-05\n",
      "Epoch 47/100\n",
      "9/9 - 0s - loss: 5.0489e-05\n",
      "Epoch 48/100\n",
      "9/9 - 0s - loss: 4.8245e-05\n",
      "Epoch 49/100\n",
      "9/9 - 0s - loss: 4.6105e-05\n",
      "Epoch 50/100\n",
      "9/9 - 0s - loss: 4.4213e-05\n",
      "Epoch 51/100\n",
      "9/9 - 0s - loss: 4.2421e-05\n",
      "Epoch 52/100\n",
      "9/9 - 0s - loss: 4.0761e-05\n",
      "Epoch 53/100\n",
      "9/9 - 0s - loss: 3.8865e-05\n",
      "Epoch 54/100\n",
      "9/9 - 0s - loss: 3.7360e-05\n",
      "Epoch 55/100\n",
      "9/9 - 0s - loss: 3.5780e-05\n",
      "Epoch 56/100\n",
      "9/9 - 0s - loss: 3.4143e-05\n",
      "Epoch 57/100\n",
      "9/9 - 0s - loss: 3.3070e-05\n",
      "Epoch 58/100\n",
      "9/9 - 0s - loss: 3.1973e-05\n",
      "Epoch 59/100\n",
      "9/9 - 0s - loss: 3.0660e-05\n",
      "Epoch 60/100\n",
      "9/9 - 0s - loss: 2.9202e-05\n",
      "Epoch 61/100\n",
      "9/9 - 0s - loss: 2.7865e-05\n",
      "Epoch 62/100\n",
      "9/9 - 0s - loss: 2.7437e-05\n",
      "Epoch 63/100\n",
      "9/9 - 0s - loss: 2.6075e-05\n",
      "Epoch 64/100\n",
      "9/9 - 0s - loss: 2.4868e-05\n",
      "Epoch 65/100\n",
      "9/9 - 0s - loss: 2.3926e-05\n",
      "Epoch 66/100\n",
      "9/9 - 0s - loss: 2.3195e-05\n",
      "Epoch 67/100\n",
      "9/9 - 0s - loss: 2.2232e-05\n",
      "Epoch 68/100\n",
      "9/9 - 0s - loss: 2.1461e-05\n",
      "Epoch 69/100\n",
      "9/9 - 0s - loss: 2.0742e-05\n",
      "Epoch 70/100\n",
      "9/9 - 0s - loss: 2.0305e-05\n",
      "Epoch 71/100\n",
      "9/9 - 0s - loss: 1.9448e-05\n",
      "Epoch 72/100\n",
      "9/9 - 0s - loss: 1.8904e-05\n",
      "Epoch 73/100\n",
      "9/9 - 0s - loss: 1.8383e-05\n",
      "Epoch 74/100\n",
      "9/9 - 0s - loss: 1.7647e-05\n",
      "Epoch 75/100\n",
      "9/9 - 0s - loss: 1.7303e-05\n",
      "Epoch 76/100\n",
      "9/9 - 0s - loss: 1.6570e-05\n",
      "Epoch 77/100\n",
      "9/9 - 0s - loss: 1.5955e-05\n",
      "Epoch 78/100\n",
      "9/9 - 0s - loss: 1.5732e-05\n",
      "Epoch 79/100\n",
      "9/9 - 0s - loss: 1.5118e-05\n",
      "Epoch 80/100\n",
      "9/9 - 0s - loss: 1.4744e-05\n",
      "Epoch 81/100\n",
      "9/9 - 0s - loss: 1.4294e-05\n",
      "Epoch 82/100\n",
      "9/9 - 0s - loss: 1.3715e-05\n",
      "Epoch 83/100\n",
      "9/9 - 0s - loss: 1.3278e-05\n",
      "Epoch 84/100\n",
      "9/9 - 0s - loss: 1.3024e-05\n",
      "Epoch 85/100\n",
      "9/9 - 0s - loss: 1.2664e-05\n",
      "Epoch 86/100\n",
      "9/9 - 0s - loss: 1.2383e-05\n",
      "Epoch 87/100\n",
      "9/9 - 0s - loss: 1.1963e-05\n",
      "Epoch 88/100\n",
      "9/9 - 0s - loss: 1.1672e-05\n",
      "Epoch 89/100\n",
      "9/9 - 0s - loss: 1.1472e-05\n",
      "Epoch 90/100\n",
      "9/9 - 0s - loss: 1.1011e-05\n",
      "Epoch 91/100\n",
      "9/9 - 0s - loss: 1.0734e-05\n",
      "Epoch 92/100\n",
      "9/9 - 0s - loss: 1.0502e-05\n",
      "Epoch 93/100\n",
      "9/9 - 0s - loss: 1.0342e-05\n",
      "Epoch 94/100\n",
      "9/9 - 0s - loss: 9.9786e-06\n",
      "Epoch 95/100\n",
      "9/9 - 0s - loss: 9.6172e-06\n",
      "Epoch 96/100\n",
      "9/9 - 0s - loss: 9.3163e-06\n",
      "Epoch 97/100\n",
      "9/9 - 0s - loss: 9.1751e-06\n",
      "Epoch 98/100\n",
      "9/9 - 0s - loss: 8.9195e-06\n",
      "Epoch 99/100\n",
      "9/9 - 0s - loss: 8.6685e-06\n",
      "Epoch 100/100\n",
      "9/9 - 0s - loss: 8.6908e-06\n"
     ]
    },
    {
     "data": {
      "text/plain": [
       "<tensorflow.python.keras.callbacks.History at 0x1ca4b1ff7c8>"
      ]
     },
     "execution_count": 153,
     "metadata": {},
     "output_type": "execute_result"
    }
   ],
   "source": [
    "model.fit(xtrain, ytrain, epochs=100, batch_size=1000, verbose=2) "
   ]
  },
  {
   "cell_type": "code",
   "execution_count": 155,
   "metadata": {},
   "outputs": [],
   "source": [
    "ypred = model.predict(xtest) "
   ]
  },
  {
   "cell_type": "code",
   "execution_count": 156,
   "metadata": {},
   "outputs": [
    {
     "name": "stdout",
     "output_type": "stream",
     "text": [
      "[[43.322742]\n",
      " [68.14434 ]\n",
      " [38.828526]\n",
      " ...\n",
      " [51.102642]\n",
      " [44.768944]\n",
      " [57.37111 ]]\n"
     ]
    }
   ],
   "source": [
    "ypred_old=min_max_scaler_y.inverse_transform(ypred)\n",
    "print(ypred_old)"
   ]
  },
  {
   "cell_type": "code",
   "execution_count": 157,
   "metadata": {},
   "outputs": [
    {
     "name": "stdout",
     "output_type": "stream",
     "text": [
      "[[43.4324]\n",
      " [68.2573]\n",
      " [38.9994]\n",
      " ...\n",
      " [51.0571]\n",
      " [44.9874]\n",
      " [57.5117]]\n"
     ]
    }
   ],
   "source": [
    "ytest_old=min_max_scaler_y.inverse_transform(ytest) \n",
    "print(ytest_old) "
   ]
  },
  {
   "cell_type": "code",
   "execution_count": 158,
   "metadata": {},
   "outputs": [
    {
     "data": {
      "image/png": "[encoded data removed]",
      "text/plain": [
       "<Figure size 432x288 with 1 Axes>"
      ]
     },
     "metadata": {
      "needs_background": "light"
     },
     "output_type": "display_data"
    }
   ],
   "source": [
    "x_ax = range(len(ytest_old))\n",
    "plt.scatter(x_ax, ytest_old,  s=6, label=\"y1-test\") \n",
    "plt.scatter(x_ax, ypred_old, label=\"y1-pred\")\n",
    "\n",
    "plt.legend()\n",
    "plt.show() "
   ]
  },
  {
   "cell_type": "code",
   "execution_count": null,
   "metadata": {},
   "outputs": [],
   "source": []
  },
  {
   "cell_type": "code",
   "execution_count": null,
   "metadata": {},
   "outputs": [],
   "source": []
  }
 ],
 "metadata": {
  "kernelspec": {
   "display_name": "Python 3",
   "language": "python",
   "name": "python3"
  },
  "language_info": {
   "codemirror_mode": {
    "name": "ipython",
    "version": 3
   },
   "file_extension": ".py",
   "mimetype": "text/x-python",
   "name": "python",
   "nbconvert_exporter": "python",
   "pygments_lexer": "ipython3",
   "version": "3.7.6"
  }
 },
 "nbformat": 4,
 "nbformat_minor": 4
}
