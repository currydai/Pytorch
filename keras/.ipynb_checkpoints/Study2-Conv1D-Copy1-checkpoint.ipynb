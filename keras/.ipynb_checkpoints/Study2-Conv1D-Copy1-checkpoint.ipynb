{
 "cells": [
  {
   "cell_type": "markdown",
   "metadata": {},
   "source": [
    "## 模型描述："
   ]
  },
  {
   "cell_type": "markdown",
   "metadata": {},
   "source": [
    "$$x_1,x_2->y$$"
   ]
  },
  {
   "cell_type": "markdown",
   "metadata": {},
   "source": [
    "$$y=10*x_1+2*x_2+1*x_1*x_2$$\n",
    "$$y=e^{-\\frac {t}{c}}$$"
   ]
  },
  {
   "cell_type": "markdown",
   "metadata": {},
   "source": [
    "* 首先y是由x1，x2引起变化的\n",
    "* 目前情况是只知道不同时间t条件下的y值，反推x1,x2与y的关系"
   ]
  },
  {
   "cell_type": "markdown",
   "metadata": {},
   "source": [
    "## 问题分析"
   ]
  },
  {
   "cell_type": "markdown",
   "metadata": {},
   "source": [
    "* 我们需要拟合$y=f(x1,x2)$,按照传统做法提取x1，x2特征，然后做拟合\n",
    "* 但是我们只知道y和t的关系，因此图和从y和t的关系中提出x1,x2相关特征"
   ]
  },
  {
   "cell_type": "markdown",
   "metadata": {},
   "source": [
    "## CNN处理"
   ]
  },
  {
   "cell_type": "markdown",
   "metadata": {},
   "source": [
    "1D CNN 可以很好地应用于传感器数据的时间序列分析（比如陀螺仪或加速度计数据）；同样也可以很好地用于分析具有固定长度周期的信号数据（比如音频信号）"
   ]
  },
  {
   "cell_type": "markdown",
   "metadata": {},
   "source": [
    "### 1.从最简单的BP神经网络开始"
   ]
  },
  {
   "cell_type": "markdown",
   "metadata": {},
   "source": [
    "### 1.1 数据生成"
   ]
  },
  {
   "cell_type": "markdown",
   "metadata": {},
   "source": [
    "因此：我们观测值是不同周期下相同时刻段内的的$f(x)$分布。"
   ]
  },
  {
   "cell_type": "raw",
   "metadata": {},
   "source": [
    "根据生成数据可以发现：\n",
    "* 如果不同时刻之间没有关系的话，那么可以按照时间分为20个模型分别取预测\n",
    "* 如果不同时刻之间有关系的话，那么就不能单独20个模型去预测，要统一去预测"
   ]
  },
  {
   "cell_type": "code",
   "execution_count": 274,
   "metadata": {},
   "outputs": [],
   "source": [
    "import numpy as np\n",
    "import random\n",
    "import matplotlib.pyplot as plt\n",
    "import matplotlib\n",
    "from sklearn import preprocessing\n",
    "from scipy import stats\n",
    "import keras\n",
    "from keras.models import Sequential\n",
    "from keras.layers import Dense, Dropout, Flatten, Reshape, GlobalAveragePooling1D\n",
    "from keras.layers import Conv2D, MaxPooling2D, Conv1D, MaxPooling1D\n",
    "from keras.utils import np_utils\n",
    "from keras import optimizers \n",
    "from keras.utils.vis_utils import plot_model  "
   ]
  },
  {
   "cell_type": "code",
   "execution_count": 272,
   "metadata": {},
   "outputs": [],
   "source": [
    "class data_gen():\n",
    "    def __init__(self,a,b,length):\n",
    "        self.a=a\n",
    "        self.b=b\n",
    "        self.length=length\n",
    "        self.c=1\n",
    "        self.t=np.array([i+1 for i in range(35)])\n",
    "\n",
    "    def RAND(self):\n",
    "        data = []\n",
    "        for i in range(self.length):\n",
    "            data.append(random.uniform(self.a, self.b))\n",
    "        return data\n",
    "\n",
    "\n",
    "    def decay(self,sig1,sig2):\n",
    "        data = []\n",
    "        for x1, x2 in zip(sig1, sig2):\n",
    "            y = 2 * x1 * np.exp(-self.t / self.c) + 2 * x2 * np.exp(-self.t / self.c)\n",
    "            data.append(y)\n",
    "        return np.array(data)"
   ]
  },
  {
   "cell_type": "code",
   "execution_count": 250,
   "metadata": {},
   "outputs": [
    {
     "data": {
      "image/png": "[encoded data removed]",
      "text/plain": [
       "<Figure size 432x288 with 1 Axes>"
      ]
     },
     "metadata": {
      "needs_background": "light"
     },
     "output_type": "display_data"
    },
    {
     "data": {
      "image/png": "[encoded data removed]",
      "text/plain": [
       "<Figure size 432x288 with 1 Axes>"
      ]
     },
     "metadata": {
      "needs_background": "light"
     },
     "output_type": "display_data"
    }
   ],
   "source": [
    "t = np.array([i+1 for i in range(35)])\n",
    "data=data_gen(1,100,100000)\n",
    "sig1=data.RAND()\n",
    "sig2=data.RAND()\n",
    "data_in=data.decay(sig1,sig2)\n",
    "\n",
    "data_out=np.hstack((sig1,sig2))\n",
    "\n",
    "\n",
    "plt.figure()\n",
    "for j in range(5):\n",
    "    plt.plot(t,data_in[j,:])\n",
    "plt.show()\n",
    "\n",
    "plt.figure()\n",
    "for j in range(5):   \n",
    "    plt.plot(t,data_in[j,:])\n",
    "plt.xscale('log')\n",
    "plt.yscale('log')\n",
    "plt.show() "
   ]
  },
  {
   "cell_type": "markdown",
   "metadata": {},
   "source": [
    "### 1.2搭建模型"
   ]
  },
  {
   "cell_type": "markdown",
   "metadata": {},
   "source": [
    "网络架构"
   ]
  },
  {
   "cell_type": "code",
   "execution_count": 288,
   "metadata": {},
   "outputs": [],
   "source": [
    "#层次模型\n",
    "model = Sequential()\n",
    "\n",
    "#输入层\n",
    "model.add(Dense(\n",
    "    units=50,\n",
    "    input_shape=(35,),\n",
    "    use_bias=True,\n",
    "    kernel_initializer='glorot_uniform',\n",
    "))  #\n",
    "\n",
    "#隐藏层\n",
    "model.add(Dense(\n",
    "        units=50,\n",
    "        input_dim=50,\n",
    "        kernel_initializer='glorot_uniform',\n",
    "        activation= 'relu',)\n",
    ")\n",
    "\n",
    "#输出层\n",
    "model.add(Dense(\n",
    "        units=2,\n",
    "        input_dim=50,\n",
    "        kernel_initializer='glorot_uniform',\n",
    "        activation='linear')\n",
    ")"
   ]
  },
  {
   "cell_type": "code",
   "execution_count": 291,
   "metadata": {},
   "outputs": [
    {
     "name": "stdout",
     "output_type": "stream",
     "text": [
      "('Failed to import pydot. You must `pip install pydot` and install graphviz (https://graphviz.gitlab.io/download/), ', 'for `pydotprint` to work.')\n"
     ]
    }
   ],
   "source": [
    "plot_model(model,to_file='model.png',show_shapes=True,show_layer_names=False,rankdir='TB')"
   ]
  },
  {
   "cell_type": "code",
   "execution_count": 290,
   "metadata": {},
   "outputs": [
    {
     "ename": "FileNotFoundError",
     "evalue": "[Errno 2] No such file or directory: 'model.png'",
     "output_type": "error",
     "traceback": [
      "\u001b[1;31m---------------------------------------------------------------------------\u001b[0m",
      "\u001b[1;31mFileNotFoundError\u001b[0m                         Traceback (most recent call last)",
      "\u001b[1;32m<ipython-input-290-a90a24d65106>\u001b[0m in \u001b[0;36m<module>\u001b[1;34m\u001b[0m\n\u001b[0;32m      1\u001b[0m \u001b[0mplt\u001b[0m\u001b[1;33m.\u001b[0m\u001b[0mfigure\u001b[0m\u001b[1;33m(\u001b[0m\u001b[1;33m)\u001b[0m\u001b[1;33m\u001b[0m\u001b[1;33m\u001b[0m\u001b[0m\n\u001b[1;32m----> 2\u001b[1;33m \u001b[0mimg\u001b[0m\u001b[1;33m=\u001b[0m\u001b[0mplt\u001b[0m\u001b[1;33m.\u001b[0m\u001b[0mimread\u001b[0m\u001b[1;33m(\u001b[0m\u001b[1;34m'model.png'\u001b[0m\u001b[1;33m)\u001b[0m\u001b[1;33m\u001b[0m\u001b[1;33m\u001b[0m\u001b[0m\n\u001b[0m\u001b[0;32m      3\u001b[0m \u001b[0mplt\u001b[0m\u001b[1;33m.\u001b[0m\u001b[0mimshow\u001b[0m\u001b[1;33m(\u001b[0m\u001b[0mimg\u001b[0m\u001b[1;33m)\u001b[0m\u001b[1;33m\u001b[0m\u001b[1;33m\u001b[0m\u001b[0m\n\u001b[0;32m      4\u001b[0m \u001b[0mplt\u001b[0m\u001b[1;33m.\u001b[0m\u001b[0maxis\u001b[0m\u001b[1;33m(\u001b[0m\u001b[1;34m'off'\u001b[0m\u001b[1;33m)\u001b[0m\u001b[1;33m\u001b[0m\u001b[1;33m\u001b[0m\u001b[0m\n\u001b[0;32m      5\u001b[0m \u001b[0mplt\u001b[0m\u001b[1;33m.\u001b[0m\u001b[0mshow\u001b[0m\u001b[1;33m(\u001b[0m\u001b[1;33m)\u001b[0m\u001b[1;33m\u001b[0m\u001b[1;33m\u001b[0m\u001b[0m\n",
      "\u001b[1;32m~\\AppData\\Roaming\\Python\\Python37\\site-packages\\matplotlib\\pyplot.py\u001b[0m in \u001b[0;36mimread\u001b[1;34m(fname, format)\u001b[0m\n\u001b[0;32m   2244\u001b[0m \u001b[1;33m@\u001b[0m\u001b[0m_copy_docstring_and_deprecators\u001b[0m\u001b[1;33m(\u001b[0m\u001b[0mmatplotlib\u001b[0m\u001b[1;33m.\u001b[0m\u001b[0mimage\u001b[0m\u001b[1;33m.\u001b[0m\u001b[0mimread\u001b[0m\u001b[1;33m)\u001b[0m\u001b[1;33m\u001b[0m\u001b[1;33m\u001b[0m\u001b[0m\n\u001b[0;32m   2245\u001b[0m \u001b[1;32mdef\u001b[0m \u001b[0mimread\u001b[0m\u001b[1;33m(\u001b[0m\u001b[0mfname\u001b[0m\u001b[1;33m,\u001b[0m \u001b[0mformat\u001b[0m\u001b[1;33m=\u001b[0m\u001b[1;32mNone\u001b[0m\u001b[1;33m)\u001b[0m\u001b[1;33m:\u001b[0m\u001b[1;33m\u001b[0m\u001b[1;33m\u001b[0m\u001b[0m\n\u001b[1;32m-> 2246\u001b[1;33m     \u001b[1;32mreturn\u001b[0m \u001b[0mmatplotlib\u001b[0m\u001b[1;33m.\u001b[0m\u001b[0mimage\u001b[0m\u001b[1;33m.\u001b[0m\u001b[0mimread\u001b[0m\u001b[1;33m(\u001b[0m\u001b[0mfname\u001b[0m\u001b[1;33m,\u001b[0m \u001b[0mformat\u001b[0m\u001b[1;33m)\u001b[0m\u001b[1;33m\u001b[0m\u001b[1;33m\u001b[0m\u001b[0m\n\u001b[0m\u001b[0;32m   2247\u001b[0m \u001b[1;33m\u001b[0m\u001b[0m\n\u001b[0;32m   2248\u001b[0m \u001b[1;33m\u001b[0m\u001b[0m\n",
      "\u001b[1;32m~\\AppData\\Roaming\\Python\\Python37\\site-packages\\matplotlib\\image.py\u001b[0m in \u001b[0;36mimread\u001b[1;34m(fname, format)\u001b[0m\n\u001b[0;32m   1494\u001b[0m                     \u001b[0mresponse\u001b[0m \u001b[1;33m=\u001b[0m \u001b[0mio\u001b[0m\u001b[1;33m.\u001b[0m\u001b[0mBytesIO\u001b[0m\u001b[1;33m(\u001b[0m\u001b[0mresponse\u001b[0m\u001b[1;33m.\u001b[0m\u001b[0mread\u001b[0m\u001b[1;33m(\u001b[0m\u001b[1;33m)\u001b[0m\u001b[1;33m)\u001b[0m\u001b[1;33m\u001b[0m\u001b[1;33m\u001b[0m\u001b[0m\n\u001b[0;32m   1495\u001b[0m                 \u001b[1;32mreturn\u001b[0m \u001b[0mimread\u001b[0m\u001b[1;33m(\u001b[0m\u001b[0mresponse\u001b[0m\u001b[1;33m,\u001b[0m \u001b[0mformat\u001b[0m\u001b[1;33m=\u001b[0m\u001b[0mext\u001b[0m\u001b[1;33m)\u001b[0m\u001b[1;33m\u001b[0m\u001b[1;33m\u001b[0m\u001b[0m\n\u001b[1;32m-> 1496\u001b[1;33m     \u001b[1;32mwith\u001b[0m \u001b[0mimg_open\u001b[0m\u001b[1;33m(\u001b[0m\u001b[0mfname\u001b[0m\u001b[1;33m)\u001b[0m \u001b[1;32mas\u001b[0m \u001b[0mimage\u001b[0m\u001b[1;33m:\u001b[0m\u001b[1;33m\u001b[0m\u001b[1;33m\u001b[0m\u001b[0m\n\u001b[0m\u001b[0;32m   1497\u001b[0m         return (_pil_png_to_float_array(image)\n\u001b[0;32m   1498\u001b[0m                 \u001b[1;32mif\u001b[0m \u001b[0misinstance\u001b[0m\u001b[1;33m(\u001b[0m\u001b[0mimage\u001b[0m\u001b[1;33m,\u001b[0m \u001b[0mPIL\u001b[0m\u001b[1;33m.\u001b[0m\u001b[0mPngImagePlugin\u001b[0m\u001b[1;33m.\u001b[0m\u001b[0mPngImageFile\u001b[0m\u001b[1;33m)\u001b[0m \u001b[1;32melse\u001b[0m\u001b[1;33m\u001b[0m\u001b[1;33m\u001b[0m\u001b[0m\n",
      "\u001b[1;32m~\\anaconda3\\lib\\site-packages\\PIL\\ImageFile.py\u001b[0m in \u001b[0;36m__init__\u001b[1;34m(self, fp, filename)\u001b[0m\n\u001b[0;32m     93\u001b[0m         \u001b[1;32mif\u001b[0m \u001b[0misPath\u001b[0m\u001b[1;33m(\u001b[0m\u001b[0mfp\u001b[0m\u001b[1;33m)\u001b[0m\u001b[1;33m:\u001b[0m\u001b[1;33m\u001b[0m\u001b[1;33m\u001b[0m\u001b[0m\n\u001b[0;32m     94\u001b[0m             \u001b[1;31m# filename\u001b[0m\u001b[1;33m\u001b[0m\u001b[1;33m\u001b[0m\u001b[1;33m\u001b[0m\u001b[0m\n\u001b[1;32m---> 95\u001b[1;33m             \u001b[0mself\u001b[0m\u001b[1;33m.\u001b[0m\u001b[0mfp\u001b[0m \u001b[1;33m=\u001b[0m \u001b[0mopen\u001b[0m\u001b[1;33m(\u001b[0m\u001b[0mfp\u001b[0m\u001b[1;33m,\u001b[0m \u001b[1;34m\"rb\"\u001b[0m\u001b[1;33m)\u001b[0m\u001b[1;33m\u001b[0m\u001b[1;33m\u001b[0m\u001b[0m\n\u001b[0m\u001b[0;32m     96\u001b[0m             \u001b[0mself\u001b[0m\u001b[1;33m.\u001b[0m\u001b[0mfilename\u001b[0m \u001b[1;33m=\u001b[0m \u001b[0mfp\u001b[0m\u001b[1;33m\u001b[0m\u001b[1;33m\u001b[0m\u001b[0m\n\u001b[0;32m     97\u001b[0m             \u001b[0mself\u001b[0m\u001b[1;33m.\u001b[0m\u001b[0m_exclusive_fp\u001b[0m \u001b[1;33m=\u001b[0m \u001b[1;32mTrue\u001b[0m\u001b[1;33m\u001b[0m\u001b[1;33m\u001b[0m\u001b[0m\n",
      "\u001b[1;31mFileNotFoundError\u001b[0m: [Errno 2] No such file or directory: 'model.png'"
     ]
    },
    {
     "data": {
      "text/plain": [
       "<Figure size 432x288 with 0 Axes>"
      ]
     },
     "metadata": {},
     "output_type": "display_data"
    }
   ],
   "source": [
    "plt.figure()\n",
    "img=plt.imread('model.png')\n",
    "plt.imshow(img)\n",
    "plt.axis('off')\n",
    "plt.show()  "
   ]
  },
  {
   "cell_type": "code",
   "execution_count": 285,
   "metadata": {
    "scrolled": true
   },
   "outputs": [
    {
     "name": "stdout",
     "output_type": "stream",
     "text": [
      "Model: \"sequential_18\"\n",
      "_________________________________________________________________\n",
      "Layer (type)                 Output Shape              Param #   \n",
      "=================================================================\n",
      "dense_52 (Dense)             (None, 50)                1800      \n",
      "_________________________________________________________________\n",
      "dense_53 (Dense)             (None, 50)                2550      \n",
      "_________________________________________________________________\n",
      "dense_54 (Dense)             (None, 2)                 102       \n",
      "=================================================================\n",
      "Total params: 4,452\n",
      "Trainable params: 4,452\n",
      "Non-trainable params: 0\n",
      "_________________________________________________________________\n"
     ]
    }
   ],
   "source": [
    "model.summary()"
   ]
  },
  {
   "cell_type": "markdown",
   "metadata": {},
   "source": [
    "设置优化与编译方法"
   ]
  },
  {
   "cell_type": "code",
   "execution_count": 253,
   "metadata": {},
   "outputs": [],
   "source": [
    "# define SGD optimizer\n",
    "sgd_optimizer = keras.optimizers.SGD(\n",
    "    lr=0.01, decay=1e-7, momentum=0.9\n",
    ")\n",
    "# compile model\n",
    "model.compile(\n",
    "    optimizer=sgd_optimizer,\n",
    "    loss='mean_squared_error'\n",
    ")"
   ]
  },
  {
   "cell_type": "markdown",
   "metadata": {},
   "source": [
    "开始训练"
   ]
  },
  {
   "cell_type": "code",
   "execution_count": 265,
   "metadata": {
    "scrolled": true
   },
   "outputs": [],
   "source": [
    "x_train=data_in.reshape(-1,35)\n",
    "y_train=data_out.reshape(-1,2)\n",
    "#x_train = x_train.astype(np.float32)\n",
    "#y_train = y_train.astype(np.float32)\n",
    "#min_max_scaler_x = preprocessing.MinMaxScaler()\n",
    "#x_train=min_max_scaler_x.fit_transform(x_train_temp)\n",
    "#min_max_scaler_y = preprocessing.MinMaxScaler()\n",
    "#y_train=min_max_scaler_y.fit_transform(y_train_temp)  "
   ]
  },
  {
   "cell_type": "code",
   "execution_count": 266,
   "metadata": {},
   "outputs": [
    {
     "name": "stdout",
     "output_type": "stream",
     "text": [
      "Epoch 1/100\n",
      "90/90 [==============================] - 0s 2ms/step - loss: nan - val_loss: nan\n",
      "Epoch 2/100\n",
      "90/90 [==============================] - 0s 2ms/step - loss: nan - val_loss: nan\n",
      "Epoch 3/100\n",
      "90/90 [==============================] - 0s 2ms/step - loss: nan - val_loss: nan\n",
      "Epoch 4/100\n",
      "90/90 [==============================] - 0s 2ms/step - loss: nan - val_loss: nan\n",
      "Epoch 5/100\n",
      "90/90 [==============================] - 0s 2ms/step - loss: nan - val_loss: nan\n",
      "Epoch 6/100\n",
      "90/90 [==============================] - 0s 2ms/step - loss: nan - val_loss: nan\n",
      "Epoch 7/100\n",
      "90/90 [==============================] - 0s 2ms/step - loss: nan - val_loss: nan\n",
      "Epoch 8/100\n",
      "90/90 [==============================] - 0s 2ms/step - loss: nan - val_loss: nan\n",
      "Epoch 9/100\n",
      "90/90 [==============================] - 0s 2ms/step - loss: nan - val_loss: nan\n",
      "Epoch 10/100\n",
      "90/90 [==============================] - 0s 2ms/step - loss: nan - val_loss: nan\n",
      "Epoch 11/100\n",
      "90/90 [==============================] - 0s 2ms/step - loss: nan - val_loss: nan\n",
      "Epoch 12/100\n",
      "90/90 [==============================] - 0s 2ms/step - loss: nan - val_loss: nan\n",
      "Epoch 13/100\n",
      "90/90 [==============================] - 0s 2ms/step - loss: nan - val_loss: nan\n",
      "Epoch 14/100\n",
      "90/90 [==============================] - 0s 2ms/step - loss: nan - val_loss: nan\n",
      "Epoch 15/100\n",
      "90/90 [==============================] - 0s 2ms/step - loss: nan - val_loss: nan\n",
      "Epoch 16/100\n",
      "90/90 [==============================] - 0s 2ms/step - loss: nan - val_loss: nan\n",
      "Epoch 17/100\n",
      "90/90 [==============================] - 0s 2ms/step - loss: nan - val_loss: nan\n",
      "Epoch 18/100\n",
      "90/90 [==============================] - 0s 2ms/step - loss: nan - val_loss: nan\n",
      "Epoch 19/100\n",
      "90/90 [==============================] - 0s 2ms/step - loss: nan - val_loss: nan\n",
      "Epoch 20/100\n",
      "90/90 [==============================] - 0s 2ms/step - loss: nan - val_loss: nan\n",
      "Epoch 21/100\n",
      "90/90 [==============================] - 0s 2ms/step - loss: nan - val_loss: nan\n",
      "Epoch 22/100\n",
      "90/90 [==============================] - 0s 2ms/step - loss: nan - val_loss: nan\n",
      "Epoch 23/100\n",
      "90/90 [==============================] - 0s 2ms/step - loss: nan - val_loss: nan\n",
      "Epoch 24/100\n",
      "90/90 [==============================] - 0s 2ms/step - loss: nan - val_loss: nan\n",
      "Epoch 25/100\n",
      "90/90 [==============================] - 0s 2ms/step - loss: nan - val_loss: nan\n",
      "Epoch 26/100\n",
      "90/90 [==============================] - 0s 2ms/step - loss: nan - val_loss: nan\n",
      "Epoch 27/100\n",
      "90/90 [==============================] - 0s 2ms/step - loss: nan - val_loss: nan\n",
      "Epoch 28/100\n",
      "90/90 [==============================] - 0s 2ms/step - loss: nan - val_loss: nan\n",
      "Epoch 29/100\n",
      "90/90 [==============================] - 0s 2ms/step - loss: nan - val_loss: nan\n",
      "Epoch 30/100\n",
      "90/90 [==============================] - 0s 2ms/step - loss: nan - val_loss: nan\n",
      "Epoch 31/100\n",
      "90/90 [==============================] - 0s 2ms/step - loss: nan - val_loss: nan\n",
      "Epoch 32/100\n",
      "90/90 [==============================] - 0s 2ms/step - loss: nan - val_loss: nan\n",
      "Epoch 33/100\n",
      "90/90 [==============================] - 0s 2ms/step - loss: nan - val_loss: nan\n",
      "Epoch 34/100\n",
      "90/90 [==============================] - 0s 2ms/step - loss: nan - val_loss: nan\n",
      "Epoch 35/100\n",
      "90/90 [==============================] - 0s 2ms/step - loss: nan - val_loss: nan\n",
      "Epoch 36/100\n",
      "90/90 [==============================] - 1s 7ms/step - loss: nan - val_loss: nan\n",
      "Epoch 37/100\n",
      "90/90 [==============================] - 0s 2ms/step - loss: nan - val_loss: nan\n",
      "Epoch 38/100\n",
      "90/90 [==============================] - 0s 2ms/step - loss: nan - val_loss: nan\n",
      "Epoch 39/100\n",
      "90/90 [==============================] - 0s 3ms/step - loss: nan - val_loss: nan\n",
      "Epoch 40/100\n",
      "90/90 [==============================] - 0s 2ms/step - loss: nan - val_loss: nan\n",
      "Epoch 41/100\n",
      "90/90 [==============================] - 0s 2ms/step - loss: nan - val_loss: nan\n",
      "Epoch 42/100\n",
      "90/90 [==============================] - 0s 2ms/step - loss: nan - val_loss: nan\n",
      "Epoch 43/100\n",
      "90/90 [==============================] - 0s 2ms/step - loss: nan - val_loss: nan\n",
      "Epoch 44/100\n",
      "90/90 [==============================] - 0s 2ms/step - loss: nan - val_loss: nan\n",
      "Epoch 45/100\n",
      "90/90 [==============================] - 0s 2ms/step - loss: nan - val_loss: nan\n",
      "Epoch 46/100\n",
      "90/90 [==============================] - 0s 2ms/step - loss: nan - val_loss: nan\n",
      "Epoch 47/100\n",
      "90/90 [==============================] - 0s 2ms/step - loss: nan - val_loss: nan\n",
      "Epoch 48/100\n",
      "90/90 [==============================] - 0s 2ms/step - loss: nan - val_loss: nan\n",
      "Epoch 49/100\n",
      "90/90 [==============================] - 0s 2ms/step - loss: nan - val_loss: nan\n",
      "Epoch 50/100\n",
      "90/90 [==============================] - 0s 2ms/step - loss: nan - val_loss: nan\n",
      "Epoch 51/100\n",
      "90/90 [==============================] - 0s 2ms/step - loss: nan - val_loss: nan\n",
      "Epoch 52/100\n",
      "90/90 [==============================] - 0s 2ms/step - loss: nan - val_loss: nan\n",
      "Epoch 53/100\n",
      "90/90 [==============================] - 0s 2ms/step - loss: nan - val_loss: nan\n",
      "Epoch 54/100\n",
      "90/90 [==============================] - 0s 2ms/step - loss: nan - val_loss: nan\n",
      "Epoch 55/100\n",
      "90/90 [==============================] - 0s 2ms/step - loss: nan - val_loss: nan\n",
      "Epoch 56/100\n",
      "90/90 [==============================] - 0s 2ms/step - loss: nan - val_loss: nan\n",
      "Epoch 57/100\n",
      "90/90 [==============================] - 0s 2ms/step - loss: nan - val_loss: nan\n",
      "Epoch 58/100\n",
      "90/90 [==============================] - 0s 2ms/step - loss: nan - val_loss: nan\n",
      "Epoch 59/100\n",
      "90/90 [==============================] - 0s 2ms/step - loss: nan - val_loss: nan\n",
      "Epoch 60/100\n",
      "90/90 [==============================] - 0s 2ms/step - loss: nan - val_loss: nan\n",
      "Epoch 61/100\n",
      "90/90 [==============================] - 0s 2ms/step - loss: nan - val_loss: nan\n",
      "Epoch 62/100\n",
      "90/90 [==============================] - 0s 2ms/step - loss: nan - val_loss: nan\n",
      "Epoch 63/100\n",
      "90/90 [==============================] - 0s 2ms/step - loss: nan - val_loss: nan\n",
      "Epoch 64/100\n",
      "90/90 [==============================] - 0s 2ms/step - loss: nan - val_loss: nan\n",
      "Epoch 65/100\n",
      "90/90 [==============================] - 0s 2ms/step - loss: nan - val_loss: nan\n",
      "Epoch 66/100\n",
      "90/90 [==============================] - 0s 2ms/step - loss: nan - val_loss: nan\n",
      "Epoch 67/100\n",
      "90/90 [==============================] - 0s 2ms/step - loss: nan - val_loss: nan\n",
      "Epoch 68/100\n",
      "90/90 [==============================] - 0s 2ms/step - loss: nan - val_loss: nan\n",
      "Epoch 69/100\n",
      "90/90 [==============================] - 0s 2ms/step - loss: nan - val_loss: nan\n",
      "Epoch 70/100\n",
      "90/90 [==============================] - 0s 2ms/step - loss: nan - val_loss: nan\n",
      "Epoch 71/100\n",
      "90/90 [==============================] - 0s 2ms/step - loss: nan - val_loss: nan\n",
      "Epoch 72/100\n",
      "90/90 [==============================] - 0s 2ms/step - loss: nan - val_loss: nan\n",
      "Epoch 73/100\n",
      "90/90 [==============================] - 0s 2ms/step - loss: nan - val_loss: nan\n",
      "Epoch 74/100\n",
      "90/90 [==============================] - 0s 2ms/step - loss: nan - val_loss: nan\n",
      "Epoch 75/100\n",
      "90/90 [==============================] - 0s 2ms/step - loss: nan - val_loss: nan\n",
      "Epoch 76/100\n",
      "90/90 [==============================] - 0s 2ms/step - loss: nan - val_loss: nan\n",
      "Epoch 77/100\n",
      "90/90 [==============================] - 0s 3ms/step - loss: nan - val_loss: nan\n",
      "Epoch 78/100\n",
      "90/90 [==============================] - 0s 2ms/step - loss: nan - val_loss: nan\n",
      "Epoch 79/100\n",
      "90/90 [==============================] - 0s 2ms/step - loss: nan - val_loss: nan\n",
      "Epoch 80/100\n",
      "90/90 [==============================] - 0s 2ms/step - loss: nan - val_loss: nan\n",
      "Epoch 81/100\n",
      "90/90 [==============================] - 0s 2ms/step - loss: nan - val_loss: nan\n",
      "Epoch 82/100\n",
      "90/90 [==============================] - 0s 2ms/step - loss: nan - val_loss: nan\n",
      "Epoch 83/100\n",
      "90/90 [==============================] - 0s 2ms/step - loss: nan - val_loss: nan\n",
      "Epoch 84/100\n",
      "90/90 [==============================] - 0s 2ms/step - loss: nan - val_loss: nan\n",
      "Epoch 85/100\n",
      "90/90 [==============================] - 0s 2ms/step - loss: nan - val_loss: nan\n",
      "Epoch 86/100\n",
      "90/90 [==============================] - 0s 2ms/step - loss: nan - val_loss: nan\n",
      "Epoch 87/100\n",
      "90/90 [==============================] - 0s 2ms/step - loss: nan - val_loss: nan\n",
      "Epoch 88/100\n",
      "90/90 [==============================] - 0s 2ms/step - loss: nan - val_loss: nan\n",
      "Epoch 89/100\n",
      "90/90 [==============================] - 0s 2ms/step - loss: nan - val_loss: nan\n",
      "Epoch 90/100\n",
      "90/90 [==============================] - 0s 2ms/step - loss: nan - val_loss: nan\n",
      "Epoch 91/100\n",
      "90/90 [==============================] - 0s 2ms/step - loss: nan - val_loss: nan\n",
      "Epoch 92/100\n",
      "90/90 [==============================] - 0s 2ms/step - loss: nan - val_loss: nan\n",
      "Epoch 93/100\n",
      "90/90 [==============================] - 0s 2ms/step - loss: nan - val_loss: nan\n",
      "Epoch 94/100\n",
      "90/90 [==============================] - 0s 2ms/step - loss: nan - val_loss: nan\n",
      "Epoch 95/100\n",
      "90/90 [==============================] - 0s 2ms/step - loss: nan - val_loss: nan\n",
      "Epoch 96/100\n",
      "90/90 [==============================] - 0s 2ms/step - loss: nan - val_loss: nan\n",
      "Epoch 97/100\n",
      "90/90 [==============================] - 0s 2ms/step - loss: nan - val_loss: nan\n",
      "Epoch 98/100\n",
      "90/90 [==============================] - 0s 2ms/step - loss: nan - val_loss: nan\n",
      "Epoch 99/100\n",
      "90/90 [==============================] - 0s 2ms/step - loss: nan - val_loss: nan\n",
      "Epoch 100/100\n",
      "90/90 [==============================] - 0s 2ms/step - loss: nan - val_loss: nan\n"
     ]
    }
   ],
   "source": [
    "# train model\n",
    "history = model.fit(\n",
    "    x_train, y_train,\n",
    "    batch_size=1000, epochs=100,\n",
    "    verbose=1, validation_split=0.1\n",
    ")"
   ]
  },
  {
   "cell_type": "code",
   "execution_count": 260,
   "metadata": {},
   "outputs": [
    {
     "name": "stderr",
     "output_type": "stream",
     "text": [
      "C:\\Users\\10437\\AppData\\Roaming\\Python\\Python37\\site-packages\\tensorflow\\python\\keras\\engine\\sequential.py:450: UserWarning: `model.predict_classes()` is deprecated and will be removed after 2021-01-01. Please use instead:* `np.argmax(model.predict(x), axis=-1)`,   if your model does multi-class classification   (e.g. if it uses a `softmax` last-layer activation).* `(model.predict(x) > 0.5).astype(\"int32\")`,   if your model does binary classification   (e.g. if it uses a `sigmoid` last-layer activation).\n",
      "  warnings.warn('`model.predict_classes()` is deprecated and '\n"
     ]
    }
   ],
   "source": [
    "y_train_pred = model.predict_classes(x_train, batch_size=20,verbose=0)"
   ]
  },
  {
   "cell_type": "code",
   "execution_count": 261,
   "metadata": {},
   "outputs": [
    {
     "data": {
      "text/plain": [
       "array([0, 0, 0, ..., 0, 0, 0], dtype=int64)"
      ]
     },
     "execution_count": 261,
     "metadata": {},
     "output_type": "execute_result"
    }
   ],
   "source": [
    "y_train_pred"
   ]
  },
  {
   "cell_type": "code",
   "execution_count": 262,
   "metadata": {
    "scrolled": true
   },
   "outputs": [
    {
     "data": {
      "text/plain": [
       "array([[43.033012, 31.131443],\n",
       "       [42.39698 , 36.364937],\n",
       "       [17.243961,  7.468741],\n",
       "       ...,\n",
       "       [60.123264, 48.684776],\n",
       "       [24.048515, 96.21659 ],\n",
       "       [24.956112, 45.640827]], dtype=float32)"
      ]
     },
     "execution_count": 262,
     "metadata": {},
     "output_type": "execute_result"
    }
   ],
   "source": [
    "y_train"
   ]
  },
  {
   "cell_type": "code",
   "execution_count": 184,
   "metadata": {},
   "outputs": [
    {
     "name": "stdout",
     "output_type": "stream",
     "text": [
      "[[1.33625228e+01 4.91579743e+00 1.80842081e+00 ... 1.69225201e-13\n",
      "  6.22544724e-14 2.29021405e-14]\n",
      " [1.09945368e+02 4.04466405e+01 1.48794875e+01 ... 1.39236634e-12\n",
      "  5.12222951e-13 1.88436293e-13]\n",
      " [1.35591282e+02 4.98812452e+01 1.83502846e+01 ... 1.71715045e-12\n",
      "  6.31704347e-13 2.32391042e-13]\n",
      " ...\n",
      " [6.56838975e+01 2.41637555e+01 8.88934887e+00 ... 8.31831751e-13\n",
      "  3.06013800e-13 1.12576186e-13]\n",
      " [5.16484128e+01 1.90003892e+01 6.98985258e+00 ... 6.54084050e-13\n",
      "  2.40624075e-13 8.85206502e-14]\n",
      " [7.80946743e+01 2.87294251e+01 1.05689649e+01 ... 9.89003884e-13\n",
      "  3.63834196e-13 1.33847121e-13]]\n"
     ]
    }
   ],
   "source": [
    "print(x_train)"
   ]
  },
  {
   "cell_type": "code",
   "execution_count": 166,
   "metadata": {},
   "outputs": [],
   "source": [
    "t = np.linspace(0,2 * np.pi, 2000)\n",
    "x_train = np.random.rand(2000,8)\n",
    "a = x_train[:,0]*np.sin(x_train[:,1]*t+x_train[:,2])+x_train[:,3]*np.cos(x_train[:,4]*t+x_train[:,5])+x_train[:,6]*t+x_train[:,7]\n",
    "b = x_train[:,1]*np.sin(x_train[:,3]*t+x_train[:,5])+x_train[:,0]*np.cos(x_train[:,7]*t+x_train[:,2])+x_train[:,4]*t+x_train[:,6]\n",
    "c = x_train[:,7]*np.sin(x_train[:,0]*t+x_train[:,6])+x_train[:,4]*np.cos(x_train[:,2]*t+x_train[:,3])+x_train[:,5]*t+x_train[:,1]\n",
    "y_train = np.array([a,b,c]).T\n",
    "y_train /= (3+2*np.pi)"
   ]
  },
  {
   "cell_type": "code",
   "execution_count": 259,
   "metadata": {
    "scrolled": true
   },
   "outputs": [
    {
     "data": {
      "text/plain": [
       "array([[43.033012, 31.131443],\n",
       "       [42.39698 , 36.364937],\n",
       "       [17.243961,  7.468741],\n",
       "       ...,\n",
       "       [60.123264, 48.684776],\n",
       "       [24.048515, 96.21659 ],\n",
       "       [24.956112, 45.640827]], dtype=float32)"
      ]
     },
     "execution_count": 259,
     "metadata": {},
     "output_type": "execute_result"
    }
   ],
   "source": [
    "y_train"
   ]
  },
  {
   "cell_type": "code",
   "execution_count": 135,
   "metadata": {
    "scrolled": true
   },
   "outputs": [
    {
     "data": {
      "text/plain": [
       "array([[0.09528474, 0.21701499, 0.51762608, ..., 0.55543743, 0.92394213,\n",
       "        0.99600937],\n",
       "       [0.73069614, 0.19186513, 0.09945469, ..., 0.97792839, 0.06071198,\n",
       "        0.04212413],\n",
       "       [0.33737163, 0.65714298, 0.46114244, ..., 0.74879761, 0.42708944,\n",
       "        0.71516636],\n",
       "       ...,\n",
       "       [0.96290769, 0.47938548, 0.13739727, ..., 0.80909891, 0.64602959,\n",
       "        0.97586635],\n",
       "       [0.04516261, 0.41206443, 0.94700923, ..., 0.01622782, 0.45268299,\n",
       "        0.9009371 ],\n",
       "       [0.32780036, 0.29644172, 0.73691817, ..., 0.21236524, 0.28258291,\n",
       "        0.69076337]])"
      ]
     },
     "execution_count": 135,
     "metadata": {},
     "output_type": "execute_result"
    }
   ],
   "source": [
    "x_train"
   ]
  },
  {
   "cell_type": "code",
   "execution_count": null,
   "metadata": {},
   "outputs": [],
   "source": []
  }
 ],
 "metadata": {
  "kernelspec": {
   "display_name": "Python 3",
   "language": "python",
   "name": "python3"
  },
  "language_info": {
   "codemirror_mode": {
    "name": "ipython",
    "version": 3
   },
   "file_extension": ".py",
   "mimetype": "text/x-python",
   "name": "python",
   "nbconvert_exporter": "python",
   "pygments_lexer": "ipython3",
   "version": "3.7.6"
  }
 },
 "nbformat": 4,
 "nbformat_minor": 4
}
