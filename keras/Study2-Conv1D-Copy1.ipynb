{
 "cells": [
  {
   "cell_type": "markdown",
   "metadata": {},
   "source": [
    "## 模型描述："
   ]
  },
  {
   "cell_type": "markdown",
   "metadata": {},
   "source": [
    "$$x_1,x_2->y$$"
   ]
  },
  {
   "cell_type": "markdown",
   "metadata": {},
   "source": [
    "$$y=f(x_1,x_2)$$\n",
    "$$y=e^{-\\frac {t}{c}}$$"
   ]
  },
  {
   "cell_type": "markdown",
   "metadata": {},
   "source": [
    "* 首先y是由x1，x2引起变化的\n",
    "* 目前情况是只知道不同时间t条件下的y值，反推x1,x2与y的关系"
   ]
  },
  {
   "cell_type": "markdown",
   "metadata": {},
   "source": [
    "## 问题分析"
   ]
  },
  {
   "cell_type": "markdown",
   "metadata": {},
   "source": [
    "* 我们需要拟合$y=f(x1,x2)$,按照传统做法提取x1，x2特征，然后做拟合\n",
    "* 但是我们只知道y和t的关系，因此图和从y和t的关系中提出x1,x2相关特征"
   ]
  },
  {
   "cell_type": "markdown",
   "metadata": {},
   "source": [
    "## CNN处理"
   ]
  },
  {
   "cell_type": "markdown",
   "metadata": {},
   "source": [
    "1D CNN 可以很好地应用于传感器数据的时间序列分析（比如陀螺仪或加速度计数据）；同样也可以很好地用于分析具有固定长度周期的信号数据（比如音频信号）"
   ]
  },
  {
   "cell_type": "markdown",
   "metadata": {},
   "source": [
    "### 1.从最简单的BP神经网络开始"
   ]
  },
  {
   "cell_type": "markdown",
   "metadata": {},
   "source": [
    "### 1.1 数据生成"
   ]
  },
  {
   "cell_type": "markdown",
   "metadata": {},
   "source": [
    "因此：我们观测值是不同周期下相同时刻段内的的$f(x)$分布。"
   ]
  },
  {
   "cell_type": "raw",
   "metadata": {},
   "source": [
    "根据生成数据可以发现：\n",
    "* 如果不同时刻之间没有关系的话，那么可以按照时间分为20个模型分别取预测\n",
    "* 如果不同时刻之间有关系的话，那么就不能单独20个模型去预测，要统一去预测"
   ]
  },
  {
   "cell_type": "code",
   "execution_count": 2,
   "metadata": {},
   "outputs": [],
   "source": [
    "import numpy as np\n",
    "import random\n",
    "import matplotlib.pyplot as plt\n",
    "import matplotlib\n",
    "from sklearn import preprocessing\n",
    "from scipy import stats\n",
    "import keras\n",
    "from keras.models import Sequential\n",
    "from keras.layers import Dense, Dropout, Flatten, Reshape, GlobalAveragePooling1D\n",
    "from keras.layers import Conv2D, MaxPooling2D, Conv1D, MaxPooling1D\n",
    "from keras.utils import np_utils\n",
    "from keras import optimizers \n",
    "from keras.utils.vis_utils import plot_model  \n",
    "from sklearn.model_selection import train_test_split"
   ]
  },
  {
   "cell_type": "code",
   "execution_count": 23,
   "metadata": {},
   "outputs": [],
   "source": [
    "class data_gen():\n",
    "    def __init__(self,a,b,length):\n",
    "        self.a=a\n",
    "        self.b=b\n",
    "        self.length=length\n",
    "        self.c=1\n",
    "        self.t=np.array([i+1 for i in range(35)])\n",
    "\n",
    "    def RAND(self):\n",
    "        data = []\n",
    "        for i in range(self.length):\n",
    "            data.append(random.uniform(self.a, self.b))\n",
    "        return data\n",
    "\n",
    "\n",
    "    def decay(self,sig1,sig2):\n",
    "        data = []\n",
    "        for x1, x2 in zip(sig1, sig2):\n",
    "            y = 2 * x1 * np.exp(-self.t / self.c) + 2 * x2 * np.exp(-self.t / self.c)\n",
    "            #y = 2 * x1 * np.exp(-self.t / self.c)\n",
    "            data.append(y)\n",
    "        return np.array(data)"
   ]
  },
  {
   "cell_type": "code",
   "execution_count": 26,
   "metadata": {},
   "outputs": [
    {
     "name": "stdout",
     "output_type": "stream",
     "text": [
      "(100000, 35)\n",
      "(2, 100000)\n"
     ]
    },
    {
     "data": {
      "image/png": "[encoded data removed]",
      "text/plain": [
       "<Figure size 432x288 with 1 Axes>"
      ]
     },
     "metadata": {
      "needs_background": "light"
     },
     "output_type": "display_data"
    },
    {
     "data": {
      "image/png": "[encoded data removed]",
      "text/plain": [
       "<Figure size 432x288 with 1 Axes>"
      ]
     },
     "metadata": {
      "needs_background": "light"
     },
     "output_type": "display_data"
    }
   ],
   "source": [
    "t = np.array([i+1 for i in range(35)])\n",
    "data=data_gen(0,1,100000)\n",
    "sig1=data.RAND()\n",
    "sig2=data.RAND()\n",
    "data_in=data.decay(sig1,sig2)\n",
    "\n",
    "data_out=np.vstack((sig1,sig2))\n",
    "\n",
    "print(data_in.shape)\n",
    "print(data_out.shape)\n",
    "\n",
    "plt.figure()\n",
    "for j in range(5):\n",
    "    plt.plot(data_in[j])\n",
    "plt.show()\n",
    "\n",
    "plt.figure()\n",
    "for j in range(5):   \n",
    "    plt.plot(data_in[j])\n",
    "plt.xscale('log')\n",
    "plt.yscale('log')\n",
    "plt.show() "
   ]
  },
  {
   "cell_type": "markdown",
   "metadata": {},
   "source": [
    "### 1.2搭建模型"
   ]
  },
  {
   "cell_type": "markdown",
   "metadata": {},
   "source": [
    "网络架构"
   ]
  },
  {
   "cell_type": "code",
   "execution_count": 29,
   "metadata": {},
   "outputs": [
    {
     "name": "stdout",
     "output_type": "stream",
     "text": [
      "35\n",
      "2\n"
     ]
    }
   ],
   "source": [
    "X_temp=data_in.reshape(-1,35)\n",
    "Y_temp=data_out.reshape(-1,2)\n",
    "min_max_scaler_x = preprocessing.MinMaxScaler()\n",
    "X_all=min_max_scaler_x.fit_transform(X_temp)\n",
    "min_max_scaler_y = preprocessing.MinMaxScaler()\n",
    "Y_all=min_max_scaler_y.fit_transform(Y_temp) \n",
    "\n",
    "in_dim=X_all.shape[1]\n",
    "out_dim=Y_all.shape[1]\n",
    "print(in_dim)\n",
    "print(out_dim)\n",
    "xtrain, xtest, ytrain, ytest=train_test_split(X_all, Y_all, test_size=0.15) "
   ]
  },
  {
   "cell_type": "code",
   "execution_count": 30,
   "metadata": {},
   "outputs": [],
   "source": [
    "#层次模型\n",
    "model = Sequential()\n",
    "\n",
    "#输入层\n",
    "model.add(Dense(\n",
    "    units=100,\n",
    "    input_dim=in_dim,\n",
    "    use_bias=True, activation= 'relu')\n",
    ")  #\n",
    "\n",
    "#隐藏层\n",
    "model.add(Dense(\n",
    "        units=100,\n",
    "        activation= 'relu',)\n",
    ")\n",
    "#输出层\n",
    "model.add(Dense(out_dim)\n",
    ")"
   ]
  },
  {
   "cell_type": "code",
   "execution_count": 31,
   "metadata": {},
   "outputs": [
    {
     "data": {
      "image/png": "[encoded data removed]",
      "text/plain": [
       "<IPython.core.display.Image object>"
      ]
     },
     "execution_count": 31,
     "metadata": {},
     "output_type": "execute_result"
    }
   ],
   "source": [
    "plot_model(model,to_file='model.png',show_shapes=True,show_layer_names=False,rankdir='TB')"
   ]
  },
  {
   "cell_type": "code",
   "execution_count": 32,
   "metadata": {
    "scrolled": true
   },
   "outputs": [
    {
     "name": "stdout",
     "output_type": "stream",
     "text": [
      "Model: \"sequential_3\"\n",
      "_________________________________________________________________\n",
      "Layer (type)                 Output Shape              Param #   \n",
      "=================================================================\n",
      "dense_9 (Dense)              (None, 100)               3600      \n",
      "_________________________________________________________________\n",
      "dense_10 (Dense)             (None, 100)               10100     \n",
      "_________________________________________________________________\n",
      "dense_11 (Dense)             (None, 2)                 202       \n",
      "=================================================================\n",
      "Total params: 13,902\n",
      "Trainable params: 13,902\n",
      "Non-trainable params: 0\n",
      "_________________________________________________________________\n"
     ]
    }
   ],
   "source": [
    "model.summary()"
   ]
  },
  {
   "cell_type": "markdown",
   "metadata": {},
   "source": [
    "设置优化与编译方法"
   ]
  },
  {
   "cell_type": "code",
   "execution_count": 33,
   "metadata": {},
   "outputs": [],
   "source": [
    "model.compile(loss=\"mse\", optimizer=\"adam\")"
   ]
  },
  {
   "cell_type": "markdown",
   "metadata": {},
   "source": [
    "开始训练"
   ]
  },
  {
   "cell_type": "code",
   "execution_count": 34,
   "metadata": {},
   "outputs": [
    {
     "name": "stdout",
     "output_type": "stream",
     "text": [
      "Epoch 1/20\n",
      "85/85 - 0s - loss: 0.0970\n",
      "Epoch 2/20\n",
      "85/85 - 0s - loss: 0.0839\n",
      "Epoch 3/20\n",
      "85/85 - 0s - loss: 0.0838\n",
      "Epoch 4/20\n",
      "85/85 - 0s - loss: 0.0838\n",
      "Epoch 5/20\n",
      "85/85 - 0s - loss: 0.0838\n",
      "Epoch 6/20\n",
      "85/85 - 0s - loss: 0.0839\n",
      "Epoch 7/20\n",
      "85/85 - 0s - loss: 0.0838\n",
      "Epoch 8/20\n",
      "85/85 - 0s - loss: 0.0839\n",
      "Epoch 9/20\n",
      "85/85 - 0s - loss: 0.0840\n",
      "Epoch 10/20\n",
      "85/85 - 0s - loss: 0.0837\n",
      "Epoch 11/20\n",
      "85/85 - 0s - loss: 0.0837\n",
      "Epoch 12/20\n",
      "85/85 - 0s - loss: 0.0837\n",
      "Epoch 13/20\n",
      "85/85 - 0s - loss: 0.0837\n",
      "Epoch 14/20\n",
      "85/85 - 0s - loss: 0.0836\n",
      "Epoch 15/20\n",
      "85/85 - 0s - loss: 0.0838\n",
      "Epoch 16/20\n",
      "85/85 - 0s - loss: 0.0838\n",
      "Epoch 17/20\n",
      "85/85 - 0s - loss: 0.0836\n",
      "Epoch 18/20\n",
      "85/85 - 0s - loss: 0.0839\n",
      "Epoch 19/20\n",
      "85/85 - 0s - loss: 0.0836\n",
      "Epoch 20/20\n",
      "85/85 - 0s - loss: 0.0836\n"
     ]
    },
    {
     "data": {
      "text/plain": [
       "<tensorflow.python.keras.callbacks.History at 0x24fa7bb7088>"
      ]
     },
     "execution_count": 34,
     "metadata": {},
     "output_type": "execute_result"
    }
   ],
   "source": [
    "model.fit(xtrain, ytrain, epochs=20, batch_size=1000, verbose=2)"
   ]
  },
  {
   "cell_type": "code",
   "execution_count": 35,
   "metadata": {},
   "outputs": [
    {
     "data": {
      "text/plain": [
       "array([[0.69038624, 0.69038624, 0.69038624, ..., 0.69038624, 0.69038624,\n",
       "        0.69038624],\n",
       "       [0.50980999, 0.50980999, 0.50980999, ..., 0.50980999, 0.50980999,\n",
       "        0.50980999],\n",
       "       [0.11312842, 0.11312842, 0.11312842, ..., 0.11312842, 0.11312842,\n",
       "        0.11312842],\n",
       "       ...,\n",
       "       [0.30322346, 0.30322346, 0.30322346, ..., 0.30322346, 0.30322346,\n",
       "        0.30322346],\n",
       "       [0.67350256, 0.67350256, 0.67350256, ..., 0.67350256, 0.67350256,\n",
       "        0.67350256],\n",
       "       [0.30915831, 0.30915831, 0.30915831, ..., 0.30915831, 0.30915831,\n",
       "        0.30915831]])"
      ]
     },
     "execution_count": 35,
     "metadata": {},
     "output_type": "execute_result"
    }
   ],
   "source": [
    "xtest"
   ]
  },
  {
   "cell_type": "code",
   "execution_count": 36,
   "metadata": {},
   "outputs": [],
   "source": [
    "ypred = model.predict(xtest)"
   ]
  },
  {
   "cell_type": "code",
   "execution_count": 37,
   "metadata": {},
   "outputs": [
    {
     "data": {
      "text/plain": [
       "array([[0.5109292 , 0.5127644 ],\n",
       "       [0.5075178 , 0.51129353],\n",
       "       [0.49889636, 0.50959975],\n",
       "       ...,\n",
       "       [0.50337374, 0.5101597 ],\n",
       "       [0.5105649 , 0.51254225],\n",
       "       [0.503521  , 0.5102597 ]], dtype=float32)"
      ]
     },
     "execution_count": 37,
     "metadata": {},
     "output_type": "execute_result"
    }
   ],
   "source": [
    "ypred"
   ]
  },
  {
   "cell_type": "code",
   "execution_count": 38,
   "metadata": {},
   "outputs": [
    {
     "data": {
      "text/plain": [
       "array([[0.38537204, 0.8818805 ],\n",
       "       [0.93500666, 0.60781593],\n",
       "       [0.87140295, 0.72158311],\n",
       "       ...,\n",
       "       [0.69622421, 0.77631551],\n",
       "       [0.94993401, 0.71609839],\n",
       "       [0.13450974, 0.46104712]])"
      ]
     },
     "execution_count": 38,
     "metadata": {},
     "output_type": "execute_result"
    }
   ],
   "source": [
    "ytest"
   ]
  },
  {
   "cell_type": "code",
   "execution_count": 39,
   "metadata": {},
   "outputs": [
    {
     "data": {
      "image/png": "[encoded data removed]",
      "text/plain": [
       "<Figure size 432x288 with 1 Axes>"
      ]
     },
     "metadata": {
      "needs_background": "light"
     },
     "output_type": "display_data"
    }
   ],
   "source": [
    "x_ax = range(len(xtest))\n",
    "plt.scatter(x_ax[0:10], ytest[0:10,0],  s=6, label=\"y1-test\")\n",
    "plt.plot(x_ax[0:10], ypred[0:10,0], label=\"y1-pred\")\n",
    "plt.scatter(x_ax[0:10], ytest[0:10,1],  s=6, label=\"y2-test\")\n",
    "plt.plot(x_ax[0:10], ypred[0:10,1], label=\"y2-pred\")\n",
    "plt.legend()\n",
    "plt.show()"
   ]
  },
  {
   "cell_type": "code",
   "execution_count": null,
   "metadata": {},
   "outputs": [],
   "source": []
  },
  {
   "cell_type": "code",
   "execution_count": null,
   "metadata": {},
   "outputs": [],
   "source": []
  }
 ],
 "metadata": {
  "kernelspec": {
   "display_name": "Python 3",
   "language": "python",
   "name": "python3"
  },
  "language_info": {
   "codemirror_mode": {
    "name": "ipython",
    "version": 3
   },
   "file_extension": ".py",
   "mimetype": "text/x-python",
   "name": "python",
   "nbconvert_exporter": "python",
   "pygments_lexer": "ipython3",
   "version": "3.7.6"
  }
 },
 "nbformat": 4,
 "nbformat_minor": 4
}
